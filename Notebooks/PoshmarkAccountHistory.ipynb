{
  "cells": [
    {
      "cell_type": "code",
      "execution_count": null,
      "metadata": {
        "collapsed": true,
        "id": "_f2SCSVOOgRL"
      },
      "outputs": [],
      "source": [
        "import pandas as pd\n",
        "import requests\n",
        "import json\n",
        "import time\n",
        "import random\n",
        "import base64\n",
        "from IPython.display import display, HTML\n",
        "from datetime import date\n",
        "\n"
      ]
    },
    {
      "cell_type": "code",
      "execution_count": null,
      "outputs": [],
      "source": [
        "# Enter the Poshmark Username to be scraped\n",
        "\n",
        "Poshmark_Username = \"chaoscollection\"\n"
      ],
      "metadata": {
        "pycharm": {
          "name": "#%%\n"
        },
        "id": "bDz7KIyLOgRM"
      }
    },
    {
      "cell_type": "code",
      "execution_count": null,
      "outputs": [
        {
          "name": "stdout",
          "output_type": "stream",
          "text": [
            "chaoscollection\n",
            "Table Size:  2280\n"
          ]
        }
      ],
      "source": [
        "def ProPoshScraper(pro):\n",
        "    print(pro)\n",
        "    pd.set_option('display.max_columns', 100)\n",
        "\n",
        "    MIN_SLEEP_TIME = 2\n",
        "    page = 1\n",
        "\n",
        "    proUrlBase = \"https://poshmark.com/vm-rest/users/\"\n",
        "    proUsername = pro\n",
        "    proFilter = \"/posts/filtered?request=%7B%22filters%22%3A%7B%22\"\n",
        "    proDepartment = \"department%22%3A%22All%22%2C%22\"\n",
        "    proInventory = \"inventory_status%22%3A%5B%22\"\n",
        "    # all, available, sold_out\n",
        "    Inventory = \"all\"\n",
        "    proURLTail1 = \"%22%5D%7D%2C%22query_and_facet_filters%22%3A%7B%22creator_id%22%3A%22\"\n",
        "    proURLTail2 = \"%22%7D%2C%22experience%22%3A%22all%22%2C%22\"\n",
        "    proMaxID = \"max_id%22%3A\"\n",
        "    MaxIDTail = \"%2C%22\"\n",
        "    proCount = \"count%22%3A\"\n",
        "    proCount2 = 48\n",
        "    proURLTail3 = \"%7D&summarize=true&app_version=2.55&pm_version=129.0.0\"\n",
        "\n",
        "    start_url = proUrlBase + proUsername + proFilter + proDepartment + proInventory + proURLTail1 + proUsername \\\n",
        "                + proURLTail2 + proCount + str(proCount2) + proURLTail3\n",
        "\n",
        "\n",
        "    headers = {\"User-Agent\": \"Mozilla/5.0 (Windows NT 10.0; WOW64) AppleWebKit/537.36 (KHTML, like Gecko) Chrome/\"\n",
        "                             \"58.0.3029.110 Safari/537.36 SE 2.X MetaSr 1.0\"}\n",
        "\n",
        "    proxies = {\"http\": \"http://123.207.96.189:80\"}\n",
        "\n",
        "    def get_table_from_url(url):\n",
        "        response = requests.get(url, proxies=proxies, headers=headers)\n",
        "        if response.status_code != 200:\n",
        "            print(\"Couldn't Connect to Poshmark\")\n",
        "        else:\n",
        "            text = response.text\n",
        "            nested_text = json.loads(text)\n",
        "            # print(nested_text)\n",
        "            if \"statusCode\" in nested_text:\n",
        "                if nested_text[\"statusCode\"] == 404:\n",
        "                    print(\"Couldn't find Poshmark Username\")\n",
        "            elif \"data\" in nested_text:\n",
        "                df_packet = pd.json_normalize(nested_text['data'])\n",
        "                # total_items = more_data['total']\n",
        "                try:\n",
        "                    if 'more' in nested_text:\n",
        "                        more_data = nested_text['more']\n",
        "                        if \"next_max_id\" in more_data:\n",
        "                            NewMaxID = str(more_data['next_max_id'])\n",
        "                            new_url = proUrlBase + proUsername + proFilter + proDepartment + proInventory + proURLTail1 + \\\n",
        "                                      proUsername + proURLTail2 + proMaxID + NewMaxID + MaxIDTail + proCount + \\\n",
        "                                      str(proCount2) + proURLTail3\n",
        "                        else:\n",
        "                            new_url = \"end\"\n",
        "                    else:\n",
        "                        new_url = \"end\"\n",
        "                except:\n",
        "                    new_url = \"end\"\n",
        "\n",
        "                return df_packet, new_url\n",
        "    try:\n",
        "        full_table, next_url = get_table_from_url(start_url)\n",
        "    except:\n",
        "        print(\"Userdata not collected\")\n",
        "\n",
        "    if full_table.size > 0:\n",
        "        print(\"Table Size: \",full_table.size)\n",
        "        while next_url != \"end\":\n",
        "            print(str(page) + \" \" + proUsername + \" \" + str(full_table.shape[0]) + ' items information collected')\n",
        "            table_to_add, next_url = get_table_from_url(next_url)\n",
        "            full_table = pd.concat([full_table, table_to_add])\n",
        "            sleep_time = MIN_SLEEP_TIME + random.random() * 10\n",
        "            time.sleep(int(sleep_time))\n",
        "            page = page + 1\n",
        "\n",
        "        first_columns = ['id','brand','title','department.display','category','category_v2.display',\n",
        "                         'category_v2.slug','first_published_at','condition','price','original_price_amount.val',\n",
        "                         'original_price_amount.currency_code','size_obj.display_with_size_set','size_obj.size_system',\n",
        "                         'picture_url',\n",
        "                         'inventory.status','inventory.status_changed_at']\n",
        "        table_min = full_table[first_columns]\n",
        "\n",
        "        output_name = 'Poshmark_' + \\\n",
        "                      proUsername + \\\n",
        "                      \"_\" + \\\n",
        "                      str(table_min.shape[0]) + \\\n",
        "                      \" \" + \\\n",
        "                      Inventory + \\\n",
        "                      ' items_' + \\\n",
        "                      str(date.today()) + \\\n",
        "                      '.csv'\n",
        "        return table_min,output_name\n",
        "    else:\n",
        "        print(\"No userdata collected\")\n",
        "\n",
        "\n",
        "## https://www.codegrepper.com/code-examples/python/download+csv+file+through+jupyter+notebook\n",
        "def create_download_link( df, file):\n",
        "    title = \"Download CSV file\"\n",
        "    csv = df.to_csv()\n",
        "    b64 = base64.b64encode(csv.encode())\n",
        "    payload = b64.decode()\n",
        "    html = '<a download=\"{filename}\" href=\"data:text/csv;base64,{payload}\" target=\"_blank\">{title}</a>'\n",
        "    html = html.format(payload=payload,title=title,filename=file)\n",
        "    display(HTML(html))\n",
        "    return HTML(html)\n",
        "\n",
        "try:\n",
        "    results, filename = ProPoshScraper(Poshmark_Username)\n",
        "    create_download_link(df=results,file=filename)\n",
        "except:\n",
        "    print(\"No data available for csv output\")"
      ],
      "metadata": {
        "pycharm": {
          "name": "#%%\n"
        },
        "id": "E3rPiVz3OgRN",
        "outputId": "f09fa970-402a-49a6-cf1a-f3f5d1eee794"
      }
    }
  ],
  "metadata": {
    "kernelspec": {
      "display_name": "Python 3",
      "language": "python",
      "name": "python3"
    },
    "language_info": {
      "codemirror_mode": {
        "name": "ipython",
        "version": 2
      },
      "file_extension": ".py",
      "mimetype": "text/x-python",
      "name": "python",
      "nbconvert_exporter": "python",
      "pygments_lexer": "ipython2",
      "version": "2.7.6"
    },
    "colab": {
      "name": "PoshmarkAccountHistory.ipynb",
      "provenance": []
    }
  },
  "nbformat": 4,
  "nbformat_minor": 0
}
