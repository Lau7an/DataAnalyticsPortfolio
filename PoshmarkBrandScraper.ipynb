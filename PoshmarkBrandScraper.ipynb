{
  "nbformat": 4,
  "nbformat_minor": 0,
  "metadata": {
    "colab": {
      "name": "PoshmarkBrandScraper.ipynb",
      "provenance": [],
      "authorship_tag": "ABX9TyNW/R6klp9U3DtJWpeKhbOJ"
    },
    "kernelspec": {
      "name": "python3",
      "display_name": "Python 3"
    },
    "language_info": {
      "name": "python"
    }
  },
  "cells": [
    {
      "cell_type": "code",
      "execution_count": null,
      "metadata": {
        "id": "oLuZnbH8RX_j"
      },
      "outputs": [],
      "source": [
        "import pandas as pd\n",
        "import requests\n",
        "import json\n",
        "import time\n",
        "import random\n",
        "import base64\n",
        "from IPython.display import display, HTML\n",
        "from datetime import date\n",
        "import numpy as np\n",
        "from pandas.io.json import json_normalize\n",
        "import re\n",
        "import os"
      ]
    },
    {
      "cell_type": "code",
      "source": [
        "brand_tag = \"Vivienne_Westwood\"\n",
        "# This has to be the Poshmark URL version of the brand name, also know as the brand tag.\n",
        "# You can find the Poshmark brand_tag of the brand name by searching Poshmark for the brand here:\n",
        "# https://poshmark.com/brands/\n",
        "# Then when clicking on the brand, you can find the brand_tag at the end of the link:\n",
        "# https://poshmark.com/brand/Vivienne_Westwood\n",
        "# Vivienne Westwood = Vivienne_Westwood"
      ],
      "metadata": {
        "id": "S7hDBmw0U2S4"
      },
      "execution_count": 11,
      "outputs": []
    },
    {
      "cell_type": "code",
      "source": [
        "def PoshmarkBrandScraper(brand_tag):\n",
        "\n",
        "  # pd.set_option('display.max_columns', 100)\n",
        "\n",
        "  url_start = \"https://poshmark.com\"\n",
        "  url_2 = \"/vm-rest/channel_groups/brand/channels/\" + brand_tag\n",
        "  url_postrequest = \"/collections/post?request={%22filters%22:\"\n",
        "  url_json_start = \"{%22brand%22:[%22\" + brand_tag + \"%22],\"\n",
        "  url_inventory = \"%22inventory_status%22:[%22\" + \"all\" + \"%22]},\"\n",
        "  url_facets = \"%22facets%22:[%22color%22,%22department%22],%22experience%22:%22all%22,%22sizeSystem%22:%22us%22,\"\n",
        "  url_tail = \"%22count%22:%2248%22}&summarize=true&pm_version=209.0.0\"\n",
        "\n",
        "  start_url = url_start + url_2 + url_postrequest + url_json_start + url_inventory + url_facets + url_tail\n",
        "\n",
        "  MIN_SLEEP_TIME = 2\n",
        "  page = 1\n",
        "\n",
        "\n",
        "  def get_table_from_url(url):\n",
        "    payload={}\n",
        "    headers = {\n",
        "      'authority': 'poshmark.com',\n",
        "      'accept': 'text/html,application/xhtml+xml,application/xml;q=0.9,image/avif,image/webp,image/apng,*/*;q=0.8,application/signed-exchange;v=b3;q=0.9',\n",
        "      'accept-language': 'en-US,en;q=0.9,ja;q=0.8',\n",
        "      'cache-control': 'max-age=0',\n",
        "      'if-none-match': 'W/\"98bcb-l0mGc5jkSNCN+QgJpGNYW261QjY\"',\n",
        "      'sec-ch-ua': '\"Chromium\";v=\"104\", \" Not A;Brand\";v=\"99\", \"Google Chrome\";v=\"104\"',\n",
        "      'sec-ch-ua-mobile': '?0',\n",
        "      'sec-ch-ua-platform': '\"macOS\"',\n",
        "      'sec-fetch-dest': 'document',\n",
        "      'sec-fetch-mode': 'navigate',\n",
        "      'sec-fetch-site': 'none',\n",
        "      'sec-fetch-user': '?1',\n",
        "      'upgrade-insecure-requests': '1',\n",
        "      'user-agent': 'Mozilla/5.0 (Macintosh; Intel Mac OS X 10_15_7) AppleWebKit/537.36 (KHTML, like Gecko) Chrome/104.0.0.0 Safari/537.36'\n",
        "    }\n",
        "\n",
        "    response = requests.request(\"GET\", url, headers=headers, data=payload)\n",
        "\n",
        "    # print(response.text)\n",
        "\n",
        "    # print(\"url: \",url)\n",
        "    # print(\"status: \",response.status_code)\n",
        "    # print(\"text: \",response.text)\n",
        "    # print(\"content: \", response.content)\n",
        "\n",
        "    if response.status_code != 200:\n",
        "        print(\"Couldn't Connect to Poshmark\")\n",
        "    else:\n",
        "        # print(\"success\")\n",
        "        text = response.text\n",
        "        nested_text = json.loads(text)\n",
        "        # print(nested_text)\n",
        "        if \"statusCode\" in nested_text:\n",
        "            if nested_text[\"statusCode\"] == 404:\n",
        "                print(\"Couldn't find Poshmark Brand\")\n",
        "        elif \"data\" in nested_text:\n",
        "            df = pd.json_normalize(nested_text['data'])\n",
        "            # total_items = more_data['total']\n",
        "            try:\n",
        "                if 'more' in nested_text:\n",
        "                    more_data = nested_text['more']\n",
        "                    if \"next_max_id\" in more_data:\n",
        "                        NewMaxID = str(more_data['next_max_id'])\n",
        "                        url_nextmax = \"%22max_id%22:%22\" + NewMaxID + \"%22,\"\n",
        "                        new_url = url_start + url_2 + url_postrequest + url_json_start + url_inventory + url_facets + url_nextmax + url_tail\n",
        "                    else:\n",
        "                        new_url = \"end\"\n",
        "                else:\n",
        "                    new_url = \"end\"\n",
        "            except:\n",
        "                new_url = \"end\"\n",
        "\n",
        "            return df, new_url\n",
        "  try:\n",
        "    brand_df, next_url = get_table_from_url(start_url)\n",
        "    if brand_df.size > 0:\n",
        "      # print(\"Table Size: \",brand_df.size)\n",
        "      while next_url != \"end\":\n",
        "          print(\" Scraping page: \", str(page), \" of \", brand_tag, \". \", str(brand_df.shape[0]), ' items information collected')\n",
        "          table_to_add, next_url = get_table_from_url(next_url)\n",
        "          brand_df = pd.concat([brand_df, table_to_add])\n",
        "          sleep_time = MIN_SLEEP_TIME + random.random() * 10\n",
        "          time.sleep(int(sleep_time))\n",
        "          page = page + 1\n",
        "      # print(brand_df.head(10))\n",
        "      return brand_df\n",
        "    else:\n",
        "      print(\"No brand data collected\")\n",
        "      return None\n",
        "  except Exception as e: print(e)\n",
        "\n",
        "  \n",
        "\n",
        "brand_info = PoshmarkBrandScraper(brand_tag)#\n"
      ],
      "metadata": {
        "id": "WQCkl5xOCia6"
      },
      "execution_count": null,
      "outputs": []
    },
    {
      "cell_type": "code",
      "source": [
        "from datetime import datetime\n",
        "from google.colab import drive, files\n",
        "from urllib.request import urlopen\n",
        "from urllib.parse import urlparse\n",
        "drive.flush_and_unmount()\n",
        "drive.mount('/content/drive')\n",
        "\n",
        "def download_csv_to_google_drive(df):\n",
        "  output_directory = \"/content/drive/My Drive/Poshmark_Brands\"\n",
        "  user_dir = output_directory + '/' + brand_tag\n",
        "  now = datetime.now()\n",
        "  date_time = now.strftime(\"%Y%d%m_%H%M%S\")\n",
        "  csv_filename = user_dir + \"/\" + brand_tag + \".csv\"\n",
        "  if not os.path.isfile(user_dir):\n",
        "    os.makedirs(user_dir, exist_ok=True)\n",
        "  df.to_csv(csv_filename,index=False)\n",
        "  print(\"Saved to Google Drive\")\n",
        "try:\n",
        "    download_csv_to_google_drive(df=brand_info)\n",
        "    drive.flush_and_unmount()\n",
        "\n",
        "except Exception as e: \n",
        "    print(e)\n",
        "    drive.flush_and_unmount()"
      ],
      "metadata": {
        "colab": {
          "base_uri": "https://localhost:8080/"
        },
        "id": "Rpxl2oSWNZUE",
        "outputId": "323bcebf-4e94-4e41-8139-e8af3378235b"
      },
      "execution_count": 33,
      "outputs": [
        {
          "output_type": "stream",
          "name": "stdout",
          "text": [
            "Mounted at /content/drive\n",
            "Saved to Google Drive\n"
          ]
        }
      ]
    },
    {
      "cell_type": "code",
      "source": [
        "# Option to upload csv if you already downloaded the scraped data to your desktop and want to run analysis without rescraping:\n",
        "# ONLY WORKS WITH SMALL SIZED CSV FILES LESS THAN 10MB\n",
        "# IF UPLOAD A LARGE CSV FILE, USE GOOGLE DRIVE IMPORT\n",
        "from google.colab import files\n",
        "import io\n",
        "uploaded = files.upload()\n",
        "brand_info = pd.read_csv(io.BytesIO(uploaded[f\"{brand_tag}.csv\"]))\n",
        "print(brand_info.head(5))"
      ],
      "metadata": {
        "id": "1kJw-jmzWfkH"
      },
      "execution_count": null,
      "outputs": []
    },
    {
      "cell_type": "code",
      "source": [
        "# Option to upload csv directly from Google Drive if you have is saved in a folder\n",
        "# USED FOR LARGE CSV FILES\n",
        "from google.colab import auth\n",
        "auth.authenticate_user()\n",
        "import pandas as pd\n",
        "from google.auth import default\n",
        "creds, _ = default()\n",
        "\n",
        "# insert url link to public csv file in good drive\n",
        "link = 'https://drive.google.com/file/d/1-9epCNa44aT8xPGr4PV9F7KsGbHg5Y9V/view'\n",
        " \n",
        "# to get the id part of the file\n",
        "id = link.split(\"/\")[-2]\n",
        "print(id)\n",
        "downloaded = drive.CreateFile({'id':id})\n",
        "downloaded.GetContentFile(f\"{brand_tag}.csv\") \n",
        " \n",
        "brand_info = pd.read_csv(f\"{brand_tag}.csv\")\n",
        "print(brand_info.head(5))"
      ],
      "metadata": {
        "id": "3zPHBIzkXofM"
      },
      "execution_count": null,
      "outputs": []
    },
    {
      "cell_type": "code",
      "source": [
        "# VIEW TOP MOST 10 ITEMS IN THE DATAFRAME - USED TO CONFIRM SUCCESSFUL DATAFRAME CREATION\n",
        "brand_info_reduced = brand_info[['title', 'creator_username', 'price', 'inventory.status','share_count', 'like_count','brand','catalog.department_obj.slug','category','category_v2.slug','first_available_at','status_changed_at']]\n",
        "print(brand_info_reduced.head(10))"
      ],
      "metadata": {
        "id": "zGxxwisLcIzF",
        "colab": {
          "base_uri": "https://localhost:8080/"
        },
        "outputId": "c1edef75-eeb4-45cd-c0e2-c2748db61c5c"
      },
      "execution_count": 38,
      "outputs": [
        {
          "output_type": "stream",
          "name": "stdout",
          "text": [
            "                                               title creator_username  price  \\\n",
            "0        Vivienne Westwood Man 3Button Collar Shirt…    sauvagebeauty    175   \n",
            "1                 NIB VIVIENNE WESTWOOD PURPLE PUMPS         joydubay     89   \n",
            "2  Vivienne Westwood Wallet Purse Orb Grey Black ...       bagzposher    603   \n",
            "3     VIVIENNE WESTWOOD Anglomania LS Blouse Size 42    sauvagebeauty    166   \n",
            "4                           Worlds End John Bull hat  wardrobefantasy    206   \n",
            "5  Vivienne Westwood Orb Slip On Loafers Mens 40 ...     emersyn_rose    149   \n",
            "6        Vivienne Westwood Mens Wool Jacket Size 52…    sauvagebeauty   1103   \n",
            "7                         VIVIENNE WESTWOOD Culottes    sauvagebeauty    350   \n",
            "8  Vivienne Westwood gray wool beret with embroid...         delyn123    115   \n",
            "9   AUTH Vivienne Westwood Piercing Orb Silver Woman     bismaskloset    873   \n",
            "\n",
            "  inventory.status  share_count  like_count              brand  \\\n",
            "0         sold_out           13           5  Vivienne Westwood   \n",
            "1        available          397          24  Vivienne Westwood   \n",
            "2        available           10           4  Vivienne Westwood   \n",
            "3        available            3           5  Vivienne Westwood   \n",
            "4        available           29          11  Vivienne Westwood   \n",
            "5        available           17          17  Vivienne Westwood   \n",
            "6        available           21           0  Vivienne Westwood   \n",
            "7        available           31           9  Vivienne Westwood   \n",
            "8        available           64         269  Vivienne Westwood   \n",
            "9        available           11          38  Vivienne Westwood   \n",
            "\n",
            "  catalog.department_obj.slug     category   category_v2.slug  \\\n",
            "0                         Men        Other             Shirts   \n",
            "1                       Women        Shoes              Shoes   \n",
            "2                       Women     Handbags               Bags   \n",
            "3                       Women         Tops               Tops   \n",
            "4                         Men        Other        Accessories   \n",
            "5                         Men        Other              Shoes   \n",
            "6                         Men        Other    Suits_&_Blazers   \n",
            "7                       Women        Pants  Pants_&_Jumpsuits   \n",
            "8                       Women  Accessories        Accessories   \n",
            "9                       Women      Jewelry            Jewelry   \n",
            "\n",
            "          first_available_at          status_changed_at  \n",
            "0  2021-12-14T05:04:04-08:00  2021-12-14T05:04:05-08:00  \n",
            "1  2022-05-31T21:56:00-07:00  2022-05-31T21:56:01-07:00  \n",
            "2  2022-05-09T02:22:09-07:00  2022-05-09T02:22:09-07:00  \n",
            "3  2022-07-23T20:50:18-07:00  2022-07-23T20:50:18-07:00  \n",
            "4  2022-08-06T14:34:10-07:00  2022-08-12T10:07:53-07:00  \n",
            "5  2022-06-22T18:27:48-07:00  2022-06-22T18:27:49-07:00  \n",
            "6  2022-07-10T08:30:43-07:00  2022-07-10T08:30:43-07:00  \n",
            "7  2022-06-23T07:11:41-07:00  2022-06-23T07:11:42-07:00  \n",
            "8  2021-12-30T14:19:49-08:00  2021-12-30T14:19:50-08:00  \n",
            "9  2022-04-05T05:17:49-07:00  2022-04-05T05:17:50-07:00  \n"
          ]
        }
      ]
    },
    {
      "cell_type": "code",
      "source": [
        "# VIEW TOP 20 SOLD ITEMS SORTED BY PRICE\n",
        "sales = brand_info_reduced[brand_info['inventory.status'] == \"sold_out\"]\n",
        "sales = sales.sort_values(by=['price'], ascending=False)\n",
        "print(sales[['title','price','category_v2.slug','status_changed_at']].head(20))"
      ],
      "metadata": {
        "colab": {
          "base_uri": "https://localhost:8080/"
        },
        "id": "zvqxAch7RmMF",
        "outputId": "a0bec9f9-9226-49b1-e284-b4bdd4c66356"
      },
      "execution_count": 39,
      "outputs": [
        {
          "output_type": "stream",
          "name": "stdout",
          "text": [
            "                                                title  price category_v2.slug  \\\n",
            "22  Vivienne Westwood F/W 1992 Rare Always On Came...   2700             Tops   \n",
            "11  Vivienne Westwood F/W 1992 Rare Always On Came...   2700             Tops   \n",
            "23  Vivienne Westwood Spring 1994 Café Society Leo...   1800             Tops   \n",
            "8         NWT Vivienne Westwood Dame Corset Dress 8UK   1500          Dresses   \n",
            "12                       Vivienne Westwood corset top   1440             Tops   \n",
            "41  Vivienne Westwood Wool Ruffled Panels Skirt w/...   1200           Skirts   \n",
            "23   Beautiful Vivienne Westwood black feather corset   1200             Tops   \n",
            "16          Vivienne Westwood NWT Archive Orb Yasmine   1200             Bags   \n",
            "37                      Rare Vivienne Westwood corset   1200             Tops   \n",
            "31                Vivienne Westwood 1997 draped dress   1100          Dresses   \n",
            "1         Vintage 1981 Original Westwood Pirate Shirt   1100           Shirts   \n",
            "23  Vivienne Westwood Corset top black velvet  siz...    900             Tops   \n",
            "13  Vivienne Westwood Vintage 1990s Gold Label Pur...    900  Jackets_&_Coats   \n",
            "5       Vivienne Westwood black heart shaped croc bag    850             Bags   \n",
            "1      Vivienne Westwood Vintage Fur Collar Wool Coat    850  Jackets_&_Coats   \n",
            "30  LARGE Vivienne Westwood Hercules and Omphale F...    815             Bags   \n",
            "26  SMALL Vivienne Westwood Hercules and Omphale F...    815             Bags   \n",
            "21  Vivienne Westwood Archive Yasmine Big Orb Handbag    800             Bags   \n",
            "17         Vivienne Westwood Draped Black Dress 8 NWT    700          Dresses   \n",
            "47  Vivienne Westwood Pirate Boots Merino Sheepski...    620            Shoes   \n",
            "\n",
            "            status_changed_at  \n",
            "22  2022-05-26T00:23:05-07:00  \n",
            "11  2022-06-14T08:37:31-07:00  \n",
            "23  2022-03-21T20:57:48-07:00  \n",
            "8   2021-09-05T14:54:07-07:00  \n",
            "12  2021-02-07T11:46:59-08:00  \n",
            "41  2022-01-16T16:53:46-08:00  \n",
            "23  2021-12-06T10:57:45-08:00  \n",
            "16  2022-01-16T14:25:27-08:00  \n",
            "37  2022-03-12T08:47:02-08:00  \n",
            "31  2022-01-26T05:26:59-08:00  \n",
            "1   2019-09-14T11:40:51-07:00  \n",
            "23  2022-05-29T16:50:49-07:00  \n",
            "13  2022-06-12T09:51:26-07:00  \n",
            "5   2021-02-21T07:53:57-08:00  \n",
            "1   2021-12-18T17:26:24-08:00  \n",
            "30  2022-01-14T21:56:06-08:00  \n",
            "26  2022-01-22T03:02:11-08:00  \n",
            "21  2022-03-04T14:26:58-08:00  \n",
            "17  2022-02-01T17:08:54-08:00  \n",
            "47  2022-03-11T12:39:01-08:00  \n"
          ]
        }
      ]
    }
  ]
}